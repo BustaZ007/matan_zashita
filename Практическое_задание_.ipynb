{
  "cells": [
    {
      "cell_type": "markdown",
      "source": [
        "# Задание №1"
      ],
      "metadata": {
        "id": "h-drxOHuiQBC"
      }
    },
    {
      "cell_type": "markdown",
      "source": [
        "Импортируем библиотеку для кодирования и декодирования строк. Является стандартной библиотекой python3"
      ],
      "metadata": {
        "id": "W4Yh6UQVfnm3"
      }
    },
    {
      "cell_type": "code",
      "execution_count": 91,
      "metadata": {
        "id": "FlvTr5Rpecoi"
      },
      "outputs": [],
      "source": [
        "import codecs\n"
      ]
    },
    {
      "cell_type": "markdown",
      "source": [
        "Входная строка"
      ],
      "metadata": {
        "id": "ZZEzLXUyepH2"
      }
    },
    {
      "cell_type": "code",
      "source": [
        "hexString=\"49276d207374756479696e672043727970746f677261706879206c696b6520436c6175646520456c776f6f64205368616e6e6f6e21\""
      ],
      "metadata": {
        "id": "Xi-j_Ktrerco"
      },
      "execution_count": 92,
      "outputs": []
    },
    {
      "cell_type": "markdown",
      "source": [
        "Сначала декодируем HEX и получаем закодированное сообщение на английском языке"
      ],
      "metadata": {
        "id": "jIj85tTneuMf"
      }
    },
    {
      "cell_type": "code",
      "execution_count": 93,
      "metadata": {
        "colab": {
          "base_uri": "https://localhost:8080/"
        },
        "id": "JuuBs-Kgecop",
        "outputId": "b9b5fc05-dd71-4635-f591-e20a605b044f"
      },
      "outputs": [
        {
          "output_type": "stream",
          "name": "stdout",
          "text": [
            "b\"I'm studying Cryptography like Claude Elwood Shannon!\"\n"
          ]
        }
      ],
      "source": [
        "decodedHex = codecs.decode(hexString,'hex')\n",
        "print(decodedHex)"
      ]
    },
    {
      "cell_type": "markdown",
      "source": [
        "Затем необходимо закодировать наше сообщение в base64, в итоге получим зашифрованное сообщение в base64"
      ],
      "metadata": {
        "id": "MkqOflxSh-o7"
      }
    },
    {
      "cell_type": "code",
      "source": [
        "encodedBase64=codecs.encode(decodedHex,'base64')\n",
        "print(encodedBase64)"
      ],
      "metadata": {
        "colab": {
          "base_uri": "https://localhost:8080/"
        },
        "id": "F4Bc2Qb4e8pT",
        "outputId": "df163f26-f083-417c-f63b-9f7608ff35db"
      },
      "execution_count": 94,
      "outputs": [
        {
          "output_type": "stream",
          "name": "stdout",
          "text": [
            "b'SSdtIHN0dWR5aW5nIENyeXB0b2dyYXBoeSBsaWtlIENsYXVkZSBFbHdvb2QgU2hhbm5vbiE=\\n'\n"
          ]
        }
      ]
    },
    {
      "cell_type": "markdown",
      "source": [
        "Остается лишь избавиться от служебных символов и получить итоговое сообщение\n"
      ],
      "metadata": {
        "id": "ki3KmO8lf2sU"
      }
    },
    {
      "cell_type": "code",
      "source": [
        "decodedBase64 = encodedBase64.decode()\n",
        "print(decodedBase64)"
      ],
      "metadata": {
        "colab": {
          "base_uri": "https://localhost:8080/"
        },
        "id": "z62PgPKAf4zZ",
        "outputId": "04c1894e-d85b-49a5-c6c4-633022955ea5"
      },
      "execution_count": 95,
      "outputs": [
        {
          "output_type": "stream",
          "name": "stdout",
          "text": [
            "SSdtIHN0dWR5aW5nIENyeXB0b2dyYXBoeSBsaWtlIENsYXVkZSBFbHdvb2QgU2hhbm5vbiE=\n",
            "\n"
          ]
        }
      ]
    },
    {
      "cell_type": "markdown",
      "source": [
        "# Задание №2"
      ],
      "metadata": {
        "id": "qajpDztvkvMz"
      }
    },
    {
      "cell_type": "markdown",
      "source": [
        "Сначала напишем функцию, вычисляющую XOR для двух строк одинаковой длины. Для этого нужно посимвольно произвести операцию XOR над каждой строкой."
      ],
      "metadata": {
        "id": "MHKJeLG-kzYc"
      }
    },
    {
      "cell_type": "code",
      "source": [
        "def xorForTwoHexString(a, b):\n",
        "    result = [] # Результирующий массив, куда будем записывать результат XOR\n",
        "    zippedStrings = zip(a, b) # Массив с кортежами из символов входных строк\n",
        "    for (x,y) in zippedStrings:\n",
        "      xor = int(x,16) ^ int(y,16) # Каждый символ переводим в число в 16-ой системе и делаем XOR\n",
        "      hexXor = hex(xor).split('x')[-1] # Переводим в hex\n",
        "      result.append(hexXor)\n",
        "    return \"\".join(result) # Соединяем все в общую строку"
      ],
      "metadata": {
        "id": "yxSGJkH_lNit"
      },
      "execution_count": 96,
      "outputs": []
    },
    {
      "cell_type": "markdown",
      "source": [
        "Добавляем входные данные"
      ],
      "metadata": {
        "id": "v9zgSPMsrr9m"
      }
    },
    {
      "cell_type": "code",
      "source": [
        "s1 = \"506561636520416c6c204f7665722054686520576f726c64\"\n",
        "s2 = \"4949544353551c0111001f010100061a021f010100061a02\""
      ],
      "metadata": {
        "id": "N-6h--QOrvn2"
      },
      "execution_count": 97,
      "outputs": []
    },
    {
      "cell_type": "markdown",
      "source": [
        "Выводим результат"
      ],
      "metadata": {
        "id": "gvs7NTfCrxiU"
      }
    },
    {
      "cell_type": "code",
      "source": [
        "print(xorForTwoHexString(s1, s2))"
      ],
      "metadata": {
        "colab": {
          "base_uri": "https://localhost:8080/"
        },
        "id": "DQ9DIVWWrzqh",
        "outputId": "100b3ded-ed78-4e5d-8a83-7d1bcb6d6b14"
      },
      "execution_count": 98,
      "outputs": [
        {
          "output_type": "stream",
          "name": "stdout",
          "text": [
            "192c352036755d6d7d2050776472264e6a7a21566f747666\n"
          ]
        }
      ]
    },
    {
      "cell_type": "markdown",
      "source": [
        "# Задание №3"
      ],
      "metadata": {
        "id": "92DsSFJgtSS0"
      }
    },
    {
      "cell_type": "markdown",
      "source": [
        "Входные данные"
      ],
      "metadata": {
        "id": "Y5_W1ai5FVLh"
      }
    },
    {
      "cell_type": "code",
      "source": [
        "inputText = '19367831362e3d2b2c353d362c783136783336372f343d3c3f3d7839342f39212b782839212b782c303d783a3d2b2c7831362c3d2a3d2b2c'"
      ],
      "metadata": {
        "id": "2XntePS_FWij"
      },
      "execution_count": 99,
      "outputs": []
    },
    {
      "cell_type": "markdown",
      "source": [
        "Так как символ при кодировке имеет длину 2, то распилим наш исходный текст на отрезки длинной 2. Также посчитаем для каждого частоту вхождения"
      ],
      "metadata": {
        "id": "oq6wJF4pFlNk"
      }
    },
    {
      "cell_type": "code",
      "source": [
        "pairCounts = {}\n",
        "for i in range(0, len(inputText), 2):\n",
        "    currentPair = inputText[i:i+2]\n",
        "    if currentPair in pairCounts.keys():\n",
        "        pairCounts[currentPair] += 1\n",
        "    else:\n",
        "        pairCounts[currentPair] = 1"
      ],
      "metadata": {
        "id": "Hbvc5kPXF5G0"
      },
      "execution_count": 100,
      "outputs": []
    },
    {
      "cell_type": "markdown",
      "source": [
        "Найдем самые часто встречающиеся пары. Это и будет наш ключ \"заксоренный\" с самым часто встречающимся символом"
      ],
      "metadata": {
        "id": "JrCUbo-0GBP_"
      }
    },
    {
      "cell_type": "code",
      "source": [
        "maxCount = max(pairCounts.values())\n",
        "keys = []\n",
        "pairKeys = list(pairCounts.keys())\n",
        "pairValues = list(pairCounts.values())\n",
        "for i in range(0, len(pairKeys)):\n",
        "    if pairValues[i] == maxCount:\n",
        "        keys.append(pairKeys[i])"
      ],
      "metadata": {
        "id": "NY0vih1LGEEO"
      },
      "execution_count": 101,
      "outputs": []
    },
    {
      "cell_type": "markdown",
      "source": [
        "Дальше, нам нужно привести ключ в исходное состояние, для этого выполним для каждого ключа операцию XOR с самой популярной буквой английского алфавита (в интернете говорят что это буква \"е\"). Также напишем две вспомогательные функции xor и xorWithMustPopularLetter"
      ],
      "metadata": {
        "id": "b6hkYHb0Hba0"
      }
    },
    {
      "cell_type": "code",
      "source": [
        "def xor(str1, str2):\n",
        "    return int(str1, 16) ^ int(str2, 16)\n",
        "\n",
        "def xorWithMustPopularLetter(str2):\n",
        "    return hex(xor('e'.encode('ascii').hex(), str2))\n",
        "\n",
        "for i in range(0, len(keys)):\n",
        "    keys[i] = xorWithMustPopularLetter(keys[i])"
      ],
      "metadata": {
        "id": "RsLPMk6NtVv8"
      },
      "execution_count": 102,
      "outputs": []
    },
    {
      "cell_type": "markdown",
      "source": [
        "Затем переведем нашу исходную строку в пары символов"
      ],
      "metadata": {
        "id": "E8PnaFU2InDh"
      }
    },
    {
      "cell_type": "code",
      "source": [
        "inputText = list(map(lambda i: inputText[i:i+2], range(0, len(inputText), 2)))"
      ],
      "metadata": {
        "id": "An4gZJxpItjI"
      },
      "execution_count": 103,
      "outputs": []
    },
    {
      "cell_type": "markdown",
      "source": [
        "Далее расшифруем наше сообщение с помощью полученных ранее ключей. Также при помощзи операции XOR"
      ],
      "metadata": {
        "id": "eta7UEQ_JDSi"
      }
    },
    {
      "cell_type": "code",
      "source": [
        "decodeMessages = []\n",
        "for key in keys:\n",
        "    resultMessage = []\n",
        "    for letter in inputText:\n",
        "      resultMessage.append(chr(xor(key, letter)))\n",
        "    decodeMessages.append(resultMessage)"
      ],
      "metadata": {
        "id": "sc3g6mPUJKzA"
      },
      "execution_count": 104,
      "outputs": []
    },
    {
      "cell_type": "markdown",
      "source": [
        "Выводим результат.В итоге из 2 ключей очевидно подошел второй.\n",
        "\n"
      ],
      "metadata": {
        "id": "AfwtSdgJJ6cU"
      }
    },
    {
      "cell_type": "code",
      "source": [
        "for message in decodeMessages:\n",
        "    print(''.join(message))"
      ],
      "metadata": {
        "colab": {
          "base_uri": "https://localhost:8080/"
        },
        "id": "Z8VKfT3ZJ8_-",
        "outputId": "1123e598-e1c6-4001-ecfa-7eef59c239f0"
      },
      "execution_count": 105,
      "outputs": [
        {
          "output_type": "stream",
          "name": "stdout",
          "text": [
            "\u0004+e,+3 61( +1e,+e.+*2) !\" e$)2$<6e5$<6e1- e' 61e,+1 7 61\n",
            "An investment in knowledge always pays the best interest\n"
          ]
        }
      ]
    },
    {
      "cell_type": "markdown",
      "source": [
        "# Задание №4"
      ],
      "metadata": {
        "id": "vzSmHQXnL6M_"
      }
    },
    {
      "cell_type": "markdown",
      "source": [
        "Для начала прочитаем исходные файлы"
      ],
      "metadata": {
        "id": "ZmslahcHTnPy"
      }
    },
    {
      "cell_type": "code",
      "source": [
        "with open('task140.input') as f:\n",
        "    file1Lines = f.readlines()\n",
        "\n",
        "with open('task141.input') as f:\n",
        "    file2Lines = f.readlines()\n",
        "\n",
        "with open('task142.input') as f:\n",
        "    file3Lines = f.readlines()"
      ],
      "metadata": {
        "id": "KwA9q4jJTsvx"
      },
      "execution_count": 106,
      "outputs": []
    },
    {
      "cell_type": "markdown",
      "source": [
        "Также прочитаем сгенерированный на [этом](https://ru.lipsum.com) сайте файл, содержащий текст (Lorem ipsum) для того, чтобы использовать его символы для поиска часто встречающихся символов"
      ],
      "metadata": {
        "id": "tWTcx1y1T_ds"
      }
    },
    {
      "cell_type": "code",
      "source": [
        "with open('lorem-ipsum.input') as f:\n",
        "    loremText = f.read()"
      ],
      "metadata": {
        "id": "KW6W1WJQU8__"
      },
      "execution_count": 107,
      "outputs": []
    },
    {
      "cell_type": "markdown",
      "source": [
        "Далее напишем вспомогательные функции:\n",
        "\n",
        "*   перевод из 16-ой в 2-ую систему\n",
        "*   XOR над двумя бинарными строками\n",
        "*   счетчик частоты вхождения символов, возвращает отсортированный по частоте словарь\n",
        "\n"
      ],
      "metadata": {
        "id": "gKYoaBgxU_tP"
      }
    },
    {
      "cell_type": "code",
      "source": [
        "def fromHexToBin(str16):\n",
        "    return \"{0:08b}\".format(int(str16, 16))\n",
        "\n",
        "def binaryXor(str1, str2):\n",
        "    return int(str1, 2) ^ int(str2, 2)\n",
        "\n",
        "def frequencyCounter(string, step):\n",
        "    pairCounts = {}\n",
        "    for i in range(0, len(string), step):\n",
        "        currentPair = string[i:i+step]\n",
        "        if currentPair in pairCounts.keys():\n",
        "            pairCounts[currentPair] += 1\n",
        "        else:\n",
        "            pairCounts[currentPair] = 1\n",
        "    return dict(sorted(pairCounts.items(), key=lambda item: item[1],reverse=True))"
      ],
      "metadata": {
        "id": "zz_NixKyViOS"
      },
      "execution_count": 108,
      "outputs": []
    },
    {
      "cell_type": "markdown",
      "source": [
        "Затем расчитаем частоту вхождения символов для нашей \"Lorem Ipsum\""
      ],
      "metadata": {
        "id": "eI-bq3I-Wone"
      }
    },
    {
      "cell_type": "code",
      "source": [
        "loremFrequency = frequencyCounter(loremText,1)"
      ],
      "metadata": {
        "id": "c2MipKA1WuiR"
      },
      "execution_count": 109,
      "outputs": []
    },
    {
      "cell_type": "markdown",
      "source": [
        "Дальше напишем функцию для расшифровки слов. Она работает по аналогии с программой из 3-его задания за одним исключением: там как \"самый частый символ\" я взял букву \"е\". Здесь же идет перебор по символам, взятым из \"Lorem Ipsum\". Для определения \"подходимости\" строки используем регулярное выражение, проверяющее что расшифрованная строка содержит только буквы, цифры и пробелы. Для этого импортируем библиотеку re"
      ],
      "metadata": {
        "id": "jUr4c2ixXKCc"
      }
    },
    {
      "cell_type": "code",
      "source": [
        "import re\n",
        "\n",
        "def decodeText(text):\n",
        "    textFrequency = frequencyCounter(text,2)\n",
        "    for loremChar in loremFrequency.keys():\n",
        "        for textChar in textFrequency.keys():\n",
        "            loremBinChar = bin(int(ord(loremChar)))\n",
        "            textBinChar = fromHexToBin(textChar)\n",
        "            xorBinKey = bin(binaryXor(loremBinChar, textBinChar))\n",
        "            decodedText = []\n",
        "            for i in range(0, len(text), 2):\n",
        "                binTextForDecode = fromHexToBin(text[i:i + 2])\n",
        "                xorDecodedChar = chr(binaryXor(xorBinKey, binTextForDecode))\n",
        "                decodedText.append(xorDecodedChar)\n",
        "            decodedText = ''.join(decodedText)\n",
        "                        \n",
        "            if re.findall('[\\s\\w\\d]*', decodedText)[0] == decodedText:\n",
        "                return decodedText\n",
        "    return None"
      ],
      "metadata": {
        "id": "QQkQOEdzXO0b"
      },
      "execution_count": 110,
      "outputs": []
    },
    {
      "cell_type": "markdown",
      "source": [
        "Далее проходимся по каждой строке наших файлов, для нахождения закодированной строки. После того как находим ее, прекращаем обработку других строк, так как по условию задачи в каждом файле лишь одна закодированная строка"
      ],
      "metadata": {
        "id": "ixpuFoXBdtr2"
      }
    },
    {
      "cell_type": "code",
      "source": [
        "for num, row in enumerate(file1Lines):\n",
        "    res = decodeText(row.strip())\n",
        "    if res is not None:\n",
        "        print(num, res)\n",
        "        break\n",
        "for num, row in enumerate(file2Lines):\n",
        "    res = decodeText(row.strip())\n",
        "    if res is not None:\n",
        "        print(num, res)\n",
        "        break\n",
        "for num, row in enumerate(file3Lines):\n",
        "    res = decodeText(row.strip())\n",
        "    if res is not None:\n",
        "        print(num, res)\n",
        "        break"
      ],
      "metadata": {
        "colab": {
          "base_uri": "https://localhost:8080/"
        },
        "id": "Lckbm8DwL946",
        "outputId": "d76cf9a8-3c1b-445f-ab50-8a4f29205e38"
      },
      "execution_count": 111,
      "outputs": [
        {
          "output_type": "stream",
          "name": "stdout",
          "text": [
            "373 Kakim umnym ja sebja chuvstvuu\n",
            "170 Now that the party is jumping\n",
            "\n",
            "373 Kakim umnym ja sebja chuvstvuu\n"
          ]
        }
      ]
    },
    {
      "cell_type": "markdown",
      "source": [
        "# Задание №5"
      ],
      "metadata": {
        "id": "H5LZvqrRfD-8"
      }
    },
    {
      "cell_type": "markdown",
      "source": [
        "Для начала прочитаем исходные файлы"
      ],
      "metadata": {
        "id": "HliwCBecfuAZ"
      }
    },
    {
      "cell_type": "code",
      "source": [
        "with open('task15.input') as f:\n",
        "    fileText = f.read()"
      ],
      "metadata": {
        "id": "QFj5XhpIfurS"
      },
      "execution_count": 112,
      "outputs": []
    },
    {
      "cell_type": "markdown",
      "source": [
        "Создадим ключ"
      ],
      "metadata": {
        "id": "FLug7-M9f7Yx"
      }
    },
    {
      "cell_type": "code",
      "source": [
        "secretKey = 'Shannon'"
      ],
      "metadata": {
        "id": "rbWTuatKf9Sz"
      },
      "execution_count": 113,
      "outputs": []
    },
    {
      "cell_type": "markdown",
      "source": [
        "Возьмем также функцию из предыдущего задания"
      ],
      "metadata": {
        "id": "AI7KqjptipeC"
      }
    },
    {
      "cell_type": "code",
      "source": [
        "def binaryXor(str1, str2):\n",
        "    return int(str1, 2) ^ int(str2, 2)"
      ],
      "metadata": {
        "id": "DLzpKrrHh3VW"
      },
      "execution_count": 114,
      "outputs": []
    },
    {
      "cell_type": "markdown",
      "source": [
        "Далее пройдемся по каждому символу входного текста и применим к нему операцию XOR. Каждый символ сделаем бинарным. Также результат переведем в hex"
      ],
      "metadata": {
        "id": "0VVf_2dlgu9u"
      }
    },
    {
      "cell_type": "code",
      "source": [
        "encodedResult = []\n",
        "for i in range(0, len(fileText)):\n",
        "    textBinChar = bin(int(ord(fileText[i])))\n",
        "    secretKeyBinChar = bin(int(ord(secretKey[i % len(secretKey)])))\n",
        "    encodedResult.append(binaryXor(textBinChar, secretKeyBinChar))\n",
        "encodedResult = bytes(encodedResult).hex()\n"
      ],
      "metadata": {
        "id": "i_Qa0B37g7IG"
      },
      "execution_count": 115,
      "outputs": []
    },
    {
      "cell_type": "markdown",
      "source": [
        "Выведем результат"
      ],
      "metadata": {
        "id": "J94bFgjki8RW"
      }
    },
    {
      "cell_type": "code",
      "source": [
        "print(encodedResult)"
      ],
      "metadata": {
        "colab": {
          "base_uri": "https://localhost:8080/"
        },
        "id": "SiUQvbu9i_ev",
        "outputId": "4c854f64-451e-4089-f95a-c8cfeed0c017"
      },
      "execution_count": 116,
      "outputs": [
        {
          "output_type": "stream",
          "name": "stdout",
          "text": [
            "00000000000000730b0e001a1d07311d150b0a4f1a3c4815060b4f083a0d0d0a4e0008730b13171e1b0f3d090d171d061d730e0e1c4e010f27010e000f034e370d070b001c0b730c141c070109733f0e1c020b4e0409134e272642736208000d031b37010f094e07072048030f1d060d731f0e1c054f013d4802010a0a0c210d000507010973090f0a4e1c0b301d130b4e1b0b3f0d020103021b3d01020f1a06013d1b4f64\n"
          ]
        }
      ]
    },
    {
      "cell_type": "markdown",
      "source": [
        "# Задание № 6"
      ],
      "metadata": {
        "id": "7ARceMKljm-U"
      }
    },
    {
      "cell_type": "markdown",
      "source": [
        "Для начала прочитаем исходные файлы"
      ],
      "metadata": {
        "id": "jG-8RE8VoFm9"
      }
    },
    {
      "cell_type": "code",
      "source": [
        "with open('task160.input') as f:\n",
        "    file1Text = f.read().strip()\n",
        "\n",
        "with open('task161.input') as f:\n",
        "    file2Text = f.read().strip()"
      ],
      "metadata": {
        "id": "L4u5A__FoFm-"
      },
      "execution_count": 117,
      "outputs": []
    },
    {
      "cell_type": "markdown",
      "source": [
        "Исходные файлы закодированы в Base64. Переведем их в HEX"
      ],
      "metadata": {
        "id": "JC-XPhkwoVp5"
      }
    },
    {
      "cell_type": "code",
      "source": [
        "import base64\n",
        "file1TextHex = base64.b64decode(file1Text).hex()\n",
        "file2TextHex = base64.b64decode(file2Text).hex()"
      ],
      "metadata": {
        "id": "B99IQdvloeI5"
      },
      "execution_count": 118,
      "outputs": []
    },
    {
      "cell_type": "markdown",
      "source": [
        "Дальше переведем HEX в обычные строки"
      ],
      "metadata": {
        "id": "0y1AJQFWpao0"
      }
    },
    {
      "cell_type": "code",
      "source": [
        "file1TextString = bytearray.fromhex(file1TextHex).decode(\"latin-1\")\n",
        "file2TextString = bytearray.fromhex(file2TextHex).decode(\"latin-1\")"
      ],
      "metadata": {
        "id": "g58mIOkLpaG2"
      },
      "execution_count": 119,
      "outputs": []
    },
    {
      "cell_type": "markdown",
      "source": [
        "Также возьмем наш \"Lorem Ipsum\" из предыдущих заданий, для составления \"самых частых символов\""
      ],
      "metadata": {
        "id": "spit635u6xaJ"
      }
    },
    {
      "cell_type": "code",
      "source": [
        "with open('lorem-ipsum.input') as f:\n",
        "    loremText = f.read().strip()"
      ],
      "metadata": {
        "id": "p2fFFaeLz9IJ"
      },
      "execution_count": 120,
      "outputs": []
    },
    {
      "cell_type": "markdown",
      "source": [
        "И возьмем функцию, для нахождения частоты вхождения символа в строку"
      ],
      "metadata": {
        "id": "kGlXX3Mo67Oy"
      }
    },
    {
      "cell_type": "code",
      "source": [
        "def frequencyCounter(string, step):\n",
        "    pairCounts = {}\n",
        "    for i in range(0, len(string), step):\n",
        "        currentPair = string[i:i+step]\n",
        "        if currentPair in pairCounts.keys():\n",
        "            pairCounts[currentPair] += 1\n",
        "        else:\n",
        "            pairCounts[currentPair] = 1\n",
        "    return dict(sorted(pairCounts.items(), key=lambda item: item[1],reverse=True))"
      ],
      "metadata": {
        "id": "erCt-3SfzqeD"
      },
      "execution_count": 121,
      "outputs": []
    },
    {
      "cell_type": "markdown",
      "source": [
        "Для проверки ключа на \"пригодность\" будем использовать собственный валидатор, основанный на библиотеке string"
      ],
      "metadata": {
        "id": "_Tr56GcW_Ts9"
      }
    },
    {
      "cell_type": "code",
      "source": [
        "import string\n",
        "validCharacters = string.ascii_uppercase + string.ascii_lowercase + string.digits + '.,!?;:\\'- \\n'\n",
        "def validateText(text):\n",
        "    return all(c in validCharacters for c in text)"
      ],
      "metadata": {
        "id": "sWr7Pna4_cXk"
      },
      "execution_count": 122,
      "outputs": []
    },
    {
      "cell_type": "markdown",
      "source": [
        "Так как длина ключа заранее нам не известна, необходимо вычислять ее для каждого текста. Вычислять будем смещением текста и поиском наибольшего \"процента\" повторений"
      ],
      "metadata": {
        "id": "WLqNnEaN_pYD"
      }
    },
    {
      "cell_type": "code",
      "source": [
        "def calculateKeyLength(textData):\n",
        "    maxFrequencyPercent = 0\n",
        "    maxLength = 0\n",
        "    for i in range(int(len(textData)/2)):\n",
        "        offsetText = textData[i+1:] + textData[:i+1]\n",
        "        xorText = xorStringWithKey(textData, offsetText)\n",
        "        xorTextFrequency = frequencyCounter(xorText,1)\n",
        "        currentFrequencyPercent = list(xorTextFrequency.values())[0]/len(textData)\n",
        "        if currentFrequencyPercent > maxFrequencyPercent:\n",
        "            maxFrequencyPercent = currentFrequencyPercent\n",
        "            maxLength = i+1  \n",
        "            \n",
        "    return maxLength"
      ],
      "metadata": {
        "id": "NimhFXCsAF9e"
      },
      "execution_count": 123,
      "outputs": []
    },
    {
      "cell_type": "markdown",
      "source": [
        "Для произведения операции XOR с текстом и ключом напишем следующую функцию. Для \"зацикливания\" ключа используем утилиту cycle из библиотеки itertools"
      ],
      "metadata": {
        "id": "6btJiLHHBzM9"
      }
    },
    {
      "cell_type": "code",
      "source": [
        "from itertools import cycle\n",
        "\n",
        "def xorStringWithKey(text, key):\n",
        "    return ''.join(chr(ord(x) ^ ord(y)) for (x,y) in zip(text, cycle(key)))"
      ],
      "metadata": {
        "id": "phCepNMBCPly"
      },
      "execution_count": 124,
      "outputs": []
    },
    {
      "cell_type": "markdown",
      "source": [
        "Также напишем функцию для нахождения ключа. Здесь мы и будем использовать \"Lorem Ipsum\"\n",
        "\n"
      ],
      "metadata": {
        "id": "3ZTzsTL6DSbX"
      }
    },
    {
      "cell_type": "code",
      "source": [
        "loremFrequency = frequencyCounter(loremText,1)\n",
        "\n",
        "def findKey(text):\n",
        "    textFrequency = frequencyCounter(text,1)\n",
        "    possibleKeys = []\n",
        "    for textChar in textFrequency.keys():\n",
        "        for loremChar in loremFrequency.keys():\n",
        "            possibleKeys.append(chr(ord(textChar) ^ ord(loremChar)))\n",
        "    resultKey = \"\"\n",
        "    for key in possibleKeys:\n",
        "        resultKey = xorStringWithKey(text, key)\n",
        "        if validateText(resultKey):\n",
        "            resultKey = key\n",
        "            break\n",
        "    else:\n",
        "        return\n",
        "    \n",
        "    return resultKey"
      ],
      "metadata": {
        "id": "Ljr0RU5uD3-C"
      },
      "execution_count": 125,
      "outputs": []
    },
    {
      "cell_type": "markdown",
      "source": [
        "Далее самая главная функция по декодированию текста. На основе длины ключа решаем сколько групп у нас будет."
      ],
      "metadata": {
        "id": "IQo4oHEJFEII"
      }
    },
    {
      "cell_type": "code",
      "source": [
        "def decodeText(text):\n",
        "    keyLength = calculateKeyLength(text)\n",
        "    groups = {}\n",
        "    for i, char in enumerate(text):\n",
        "        if i % keyLength in groups:\n",
        "            groups[i % keyLength] += char\n",
        "        else:\n",
        "            groups[i % keyLength] = char\n",
        "\n",
        "    keyChars = []\n",
        "    for i, groupText in groups.items():\n",
        "        keyChars.append(findKey(groupText))\n",
        "    key = ''.join(keyChars)\n",
        "    decodedText = xorStringWithKey(text, key);\n",
        "    print(f'Key: {key}')\n",
        "    print(f'Decoded text: {decodedText}')\n",
        "            \n",
        "decodeText(file1TextString)\n",
        "print('-------------------------------------------------------------------')\n",
        "decodeText(file2TextString)"
      ],
      "metadata": {
        "colab": {
          "base_uri": "https://localhost:8080/"
        },
        "id": "iXlKWqGijqKN",
        "outputId": "e0a76f7a-bf7b-46a8-8549-34629f471b2e"
      },
      "execution_count": 127,
      "outputs": [
        {
          "output_type": "stream",
          "name": "stdout",
          "text": [
            "Key: Robert Laurence Binyon\n",
            "Decoded text: How dark, how quiet sleeps the vale below!\n",
            "In the dim farms, look, not a window shines:\n",
            "Distantly heard among the lonely pines,\n",
            "How soft the languid autumn breezes flow\n",
            "Past me, and kiss my hair, and cheek, and mouth!\n",
            "Half--veiled is the calm sky:\n",
            "Jupiter's kingly eye\n",
            "Alone glows full in the unclouded South.\n",
            "\n",
            "Alas! and can sweet Night avail to heal\n",
            "Not one of the world's wounds? Must I, even here,\n",
            "Still listen with the mind's too wakeful ear\n",
            "To that sad sound, which in my flesh I feel;\n",
            "Sound of unresting, unrejoicing feet,\n",
            "With feverish steps or slow\n",
            "For ever, to and fro,\n",
            "Pacing the gay, thronged, friendless, stony street?\n",
            "\n",
            "Nature is free; but Man the eternal slave\n",
            "Of care and passion. Must I deem that true?\n",
            "With fields and quiet have we nought to do,\n",
            "Because our spirits for ever crave and crave,\n",
            "And never found their satisfaction yet?\n",
            "World, is thy heart so cold,\n",
            "So deeply weary and old,\n",
            "That thy sole business is but to forget?\n",
            "\n",
            "No, no! these perfect trees, with whispering voice,\n",
            "These flowers, that have to thee a solace been,\n",
            "And yet an alien solace, so serene\n",
            "They live, and in their life seem to rejoice;\n",
            "Life how unlike to thine! These flowers, these trees,\n",
            "Are children of one birth\n",
            "With thee, O Man; as Earth,\n",
            "Earth, still so fair, for all thy ravages,\n",
            "\n",
            "Is sister to yon radiant Jupiter,\n",
            "Who with such glorious and untroubled gaze\n",
            "Upon his own course burning down Heaven's ways\n",
            "Across deep seas of darkness looks at her!\n",
            "Perchance in his vast bosom he, too, keeps\n",
            "Like ferment, like distress;\n",
            "Yet tranquil shines not less,\n",
            "Lord of the night, that round his splendour sleeps.\n",
            "-------------------------------------------------------------------\n",
            "Key: Terminator X: Bring the noiseTerminator X: Bring the noiseTerminator X: Bring the noiseTerminator X: Bring the noise\n",
            "Decoded text: I'm back and I'm ringin' the bell \n",
            "A rockin' on the mike while the fly girls yell \n",
            "In ecstasy in the back of me \n",
            "Well that's my DJ Deshay cuttin' all them Z's \n",
            "Hittin' hard and the girlies goin' crazy \n",
            "Vanilla's on the mike, man I'm not lazy. \n",
            "\n",
            "I'm lettin' my drug kick in \n",
            "It controls my mouth and I begin \n",
            "To just let it flow, let my concepts go \n",
            "My posse's to the side yellin', Go Vanilla Go! \n",
            "\n",
            "Smooth 'cause that's the way I will be \n",
            "And if you don't give a damn, then \n",
            "Why you starin' at me \n",
            "So get off 'cause I control the stage \n",
            "There's no dissin' allowed \n",
            "I'm in my own phase \n",
            "The girlies sa y they love me and that is ok \n",
            "And I can dance better than any kid n' play \n",
            "\n",
            "Stage 2 -- Yea the one ya' wanna listen to \n",
            "It's off my head so let the beat play through \n",
            "So I can funk it up and make it sound good \n",
            "1-2-3 Yo -- Knock on some wood \n",
            "For good luck, I like my rhymes atrocious \n",
            "Supercalafragilisticexpialidocious \n",
            "I'm an effect and that you can bet \n",
            "I can take a fly girl and make her wet. \n",
            "\n",
            "I'm like Samson -- Samson to Delilah \n",
            "There's no denyin', You can try to hang \n",
            "But you'll keep tryin' to get my style \n",
            "Over and over, practice makes perfect \n",
            "But not if you're a loafer. \n",
            "\n",
            "You'll get nowhere, no place, no time, no girls \n",
            "Soon -- Oh my God, homebody, you probably eat \n",
            "Spaghetti with a spoon! Come on and say it! \n",
            "\n",
            "VIP. Vanilla Ice yep, yep, I'm comin' hard like a rhino \n",
            "Intoxicating so you stagger like a wino \n",
            "So punks stop trying and girl stop cryin' \n",
            "Vanilla Ice is sellin' and you people are buyin' \n",
            "'Cause why the freaks are jockin' like Crazy Glue \n",
            "Movin' and groovin' trying to sing along \n",
            "All through the ghetto groovin' this here song \n",
            "Now you're amazed by the VIP posse. \n",
            "\n",
            "Steppin' so hard like a German Nazi \n",
            "Startled by the bases hittin' ground \n",
            "There's no trippin' on mine, I'm just gettin' down \n",
            "Sparkamatic, I'm hangin' tight like a fanatic \n",
            "You trapped me once and I thought that \n",
            "You might have it \n",
            "So step down and lend me your ear \n",
            "'89 in my time! You, '90 is my year. \n",
            "\n",
            "You're weakenin' fast, YO! and I can tell it \n",
            "Your body's gettin' hot, so, so I can smell it \n",
            "So don't be mad and don't be sad \n",
            "'Cause the lyrics belong to ICE, You can call me Dad \n",
            "You're pitchin' a fit, so step back and endure \n",
            "Let the witch doctor, Ice, do the dance to cure \n",
            "So come up close and don't be square \n",
            "You wanna battle me -- Anytime, anywhere \n",
            "\n",
            "You thought that I was weak, Boy, you're dead wrong \n",
            "So come on, everybody and sing this song \n",
            "\n",
            "Say -- Play that funky music Say, go white boy, go white boy go \n",
            "play that funky music Go white boy, go white boy, go \n",
            "Lay down and boogie and play that funky music till you die. \n",
            "\n",
            "Play that funky music Come on, Come on, let me hear \n",
            "Play that funky music white boy you say it, say it \n",
            "Play that funky music A little louder now \n",
            "Play that funky music, white boy Come on, Come on, Come on \n",
            "Play that funky music \n",
            "\n"
          ]
        }
      ]
    }
  ],
  "metadata": {
    "kernelspec": {
      "display_name": "Python 3",
      "language": "python",
      "name": "python3"
    },
    "language_info": {
      "codemirror_mode": {
        "name": "ipython",
        "version": 3
      },
      "file_extension": ".py",
      "mimetype": "text/x-python",
      "name": "python",
      "nbconvert_exporter": "python",
      "pygments_lexer": "ipython3",
      "version": "3.8.5"
    },
    "colab": {
      "provenance": [],
      "collapsed_sections": [
        "h-drxOHuiQBC",
        "qajpDztvkvMz"
      ]
    }
  },
  "nbformat": 4,
  "nbformat_minor": 0
}